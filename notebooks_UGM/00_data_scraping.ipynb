{
 "cells": [
  {
   "cell_type": "code",
   "execution_count": null,
   "id": "f334ac78-3ccb-4319-8b9d-2e79113f2c2c",
   "metadata": {},
   "outputs": [],
   "source": [
    "import sinta\n",
    "import logging\n",
    "from scholarly import scholarly\n",
    "from scholarly import MaxTriesExceededException\n",
    "import json\n",
    "from pathlib import Path"
   ]
  },
  {
   "cell_type": "code",
   "execution_count": null,
   "id": "2fc310da-7155-4649-8997-5c9f579cafc7",
   "metadata": {},
   "outputs": [],
   "source": [
    "import pandas as pd\n",
    "from datetime import datetime\n",
    "#pd.set_option('display.max_rows', None)\n",
    "\n",
    "# Define a function to extract and format the birth date from the NIDN\n",
    "def extract_birth_date(nidn):\n",
    "    # Check if the NIDN is not available or not long enough\n",
    "    if pd.isnull(nidn) or len(nidn) < 8:\n",
    "        return None\n",
    "    # Extract the birth date components\n",
    "    day = nidn[2:4]\n",
    "    month = nidn[4:6]\n",
    "    year = '19' + nidn[6:8]  # Assuming the year is in 19xx\n",
    "    # Format the birth date as dd/mm/yyyy\n",
    "    return day + '/' + month + '/' + year\n",
    "\n",
    "# Define a function to calculate the age from the birth date\n",
    "def calculate_age(birth_date):\n",
    "    # Check if the birth date is not available\n",
    "    if pd.isnull(birth_date):\n",
    "        return None\n",
    "    # Extract the birth year\n",
    "    birth_year = int(birth_date.split('/')[-1])\n",
    "    # Calculate the age by subtracting the birth year from the current year\n",
    "    return datetime.now().year - birth_year"
   ]
  },
  {
   "cell_type": "code",
   "execution_count": null,
   "id": "56f22b6f-2827-47cc-bfcd-d4de491d384c",
   "metadata": {},
   "outputs": [],
   "source": [
    "df_nidn = pd.read_csv(\"../data/raw/UGM_BIO/ugm_data_NIDN.txt\", dtype={'id': str, 'NIDN': str})\n",
    "df_retired = pd.read_csv(\"../data/raw/UGM_BIO/ugm_bio_retired.txt\")\n",
    "df_retired"
   ]
  },
  {
   "cell_type": "code",
   "execution_count": null,
   "id": "a71925a7-876c-46b5-9847-6bc235b790b4",
   "metadata": {},
   "outputs": [],
   "source": [
    "df = df_nidn[~df_nidn.name.isin(df_retired.Retired)]\n",
    "# Create a new column 'birth_date' by applying the function to the 'NIDN' column\n",
    "df.loc[:, 'birth_date'] = df['NIDN'].apply(extract_birth_date)\n",
    "\n",
    "# Create a new column 'age' by applying the function to the 'birth_date' column\n",
    "df.loc[:, 'age'] = df['birth_date'].apply(calculate_age)\n",
    "df = df.rename(columns={\"name\":\"name_inputted\"})\n",
    "# Display the DataFrame\n",
    "df"
   ]
  },
  {
   "cell_type": "code",
   "execution_count": null,
   "id": "fbd29884-6f57-4226-8134-f32c9a00c21d",
   "metadata": {},
   "outputs": [],
   "source": [
    "sinta_get = sinta.author(df.id.dropna().to_list())"
   ]
  },
  {
   "cell_type": "code",
   "execution_count": null,
   "id": "f606d054-df33-44f7-948b-bc5c943a4710",
   "metadata": {},
   "outputs": [],
   "source": [
    "df_sinta = pd.DataFrame.from_dict(sinta_get)\n",
    "df_clean = df.merge(df_sinta, left_on=\"id\", right_on=\"id\").set_index(\"id\")\n",
    "df_clean = df_clean.rename(columns={\"name\":\"name_sinta\", \"affiliation\":\"affiliation_sinta\"})"
   ]
  },
  {
   "cell_type": "code",
   "execution_count": null,
   "id": "f94e5add-5992-439d-81fa-fa6ce0bc1cb8",
   "metadata": {},
   "outputs": [],
   "source": [
    "google_result = {}\n",
    "for sinta_id in df_clean.index:\n",
    "    google_id = df_clean.loc[sinta_id, \"google_scholar_id\"]\n",
    "    outfile = Path(f\"../data/processed/UGM/google_scholar/{sinta_id}.json\")\n",
    "    outfile.parent.mkdir(exist_ok=True, parents=True)\n",
    "    if outfile.exists():\n",
    "        logging.debug(f\"Fetching scholar information for sinta_id: {sinta_id} from cache...\")\n",
    "        with open(outfile, \"r\") as f:\n",
    "            author = json.load(f)\n",
    "    else:\n",
    "        logging.debug(f\"Fetching scholar information for sinta_id: {sinta_id} using google scholar API...\")\n",
    "        try:\n",
    "            author = scholarly.search_author_id(google_id)\n",
    "        except MaxTriesExceededException as e:\n",
    "            logging.warning(e)\n",
    "            author_name = df_clean.loc[sinta_id, \"name_inputted\"]\n",
    "            logging.debug(f\"Searching scholar information for: {author_name} using google scholar API...\")\n",
    "            author_query = scholarly.search_author(author_name)\n",
    "            author = next(author_query)\n",
    "        author = scholarly.fill(author, sections=[])\n",
    "        with open(outfile, \"w\") as f:\n",
    "            json.dump(author, f, indent=2)\n",
    "    google_result.update({sinta_id:author})"
   ]
  },
  {
   "cell_type": "code",
   "execution_count": null,
   "id": "f96a2a58-412b-4038-bee3-6d53eb274ddd",
   "metadata": {},
   "outputs": [],
   "source": [
    "df_google = pd.DataFrame.from_dict(google_result).T"
   ]
  },
  {
   "cell_type": "code",
   "execution_count": null,
   "id": "4d3fa70d-65da-4a81-9a2e-9c89c1840ed2",
   "metadata": {},
   "outputs": [],
   "source": [
    "df_final = df_clean.merge(df_google, left_index=True, right_index=True)"
   ]
  },
  {
   "cell_type": "code",
   "execution_count": null,
   "id": "0678d19c-9400-4050-a411-d062dcf5bf6b",
   "metadata": {},
   "outputs": [],
   "source": [
    "df_final.T.to_json(\"../data/processed/UGM_BIO/biology.json\", indent=2)"
   ]
  },
  {
   "cell_type": "code",
   "execution_count": null,
   "id": "d45abdc3-7a92-499b-a4dc-9d4cfa9573ea",
   "metadata": {},
   "outputs": [],
   "source": [
    "# sanity check for empty email domain\n",
    "df_final[df_final.email_domain.isnull()].loc[:, [\"name_inputted\", \"name\", \"email_domain\", 'scholar_id', 'affiliation', 'interests', 'homepage']]"
   ]
  },
  {
   "cell_type": "code",
   "execution_count": null,
   "id": "8360882c-c363-4256-94da-5dbbc1e808ae",
   "metadata": {},
   "outputs": [],
   "source": [
    "# sanity check for different affiliation domain\n",
    "suspicious_email_domain = []\n",
    "for email_domain in df_final.email_domain.unique():\n",
    "    if type(email_domain) is str:\n",
    "        if \"UGM\".lower() not in email_domain:\n",
    "            suspicious_email_domain.append(email_domain)\n",
    "suspicious_email_domain"
   ]
  },
  {
   "cell_type": "code",
   "execution_count": null,
   "id": "31a8b411-26cd-4440-95c1-6e1f8028c7c2",
   "metadata": {},
   "outputs": [],
   "source": [
    "df_final[df_final.email_domain.isin(suspicious_email_domain)].loc[:, [\"name_inputted\", \"name\", \"email_domain\", 'scholar_id', 'affiliation', 'interests', 'homepage']]"
   ]
  }
 ],
 "metadata": {
  "kernelspec": {
   "display_name": "Python 3 (ipykernel)",
   "language": "python",
   "name": "python3"
  },
  "language_info": {
   "codemirror_mode": {
    "name": "ipython",
    "version": 3
   },
   "file_extension": ".py",
   "mimetype": "text/x-python",
   "name": "python",
   "nbconvert_exporter": "python",
   "pygments_lexer": "ipython3",
   "version": "3.11.9"
  }
 },
 "nbformat": 4,
 "nbformat_minor": 5
}
