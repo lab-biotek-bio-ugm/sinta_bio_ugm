{
 "cells": [
  {
   "cell_type": "code",
   "execution_count": null,
   "id": "33e30a41-56f0-48f0-96c2-df52e344e7f3",
   "metadata": {},
   "outputs": [],
   "source": [
    "import pandas as pd\n",
    "import json\n",
    "from pathlib import Path\n",
    "from sklearn.feature_extraction.text import TfidfVectorizer\n",
    "from sklearn.decomposition import PCA\n",
    "from sklearn.cluster import KMeans\n",
    "from sklearn.metrics import silhouette_score\n",
    "import altair as alt"
   ]
  },
  {
   "cell_type": "code",
   "execution_count": null,
   "id": "b96af992-dca9-4124-b6d1-49cbcfe1f852",
   "metadata": {},
   "outputs": [],
   "source": [
    "with open(\"../data/processed/UGM/biology.json\", \"r\") as f:\n",
    "    data = json.load(f)"
   ]
  },
  {
   "cell_type": "code",
   "execution_count": null,
   "id": "fda78bcb-c368-4ff1-a43d-759908da92e2",
   "metadata": {},
   "outputs": [],
   "source": [
    "text_vis = {}\n",
    "ctr = 0\n",
    "for sinta_id, value in data.items():\n",
    "    name = value[\"name_inputted\"]\n",
    "    for item in value['publications']:\n",
    "        text_vis[ctr] = {\"author\": sinta_id,\n",
    "                         \"title\" : item['bib']['title']}\n",
    "        ctr += 1"
   ]
  },
  {
   "cell_type": "code",
   "execution_count": null,
   "id": "92930ee9-eaad-42cd-8e3c-8731e5840172",
   "metadata": {},
   "outputs": [],
   "source": [
    "df = pd.DataFrame.from_dict(text_vis).T\n",
    "df"
   ]
  },
  {
   "cell_type": "code",
   "execution_count": null,
   "id": "9e74a511-158c-45ee-97fb-e3e4dad41b01",
   "metadata": {},
   "outputs": [],
   "source": [
    "# Function to get the most common words per cluster\n",
    "def get_top_words(titles, stop_words='english', top_n=5):\n",
    "    vectorizer = TfidfVectorizer(stop_words=stop_words)\n",
    "    tfidf_matrix = vectorizer.fit_transform(titles)\n",
    "    feature_array = vectorizer.get_feature_names_out()\n",
    "    tfidf_sorting = tfidf_matrix.toarray().sum(axis=0).argsort()[::-1]\n",
    "    top_words = [feature_array[i] for i in tfidf_sorting[:top_n]]\n",
    "    return top_words\n",
    "\n",
    "# Combine English and Indonesian stop words\n",
    "indonesian_stop_words = [\n",
    "    'dan', 'yang', 'untuk', 'dari', 'dengan', 'pada', 'adalah', 'ke', 'di', 'sebagai', 'ini',\n",
    "    'itu', 'oleh', 'dalam', 'atau', 'juga', 'tersebut', 'sangat', 'agar', 'bisa', 'karena', 'terhadap',\n",
    "    'pengaruh', 'berdasarkan', 'indonesia', 'yogyakarta', 'isolated', 'java', 'based', 'daerah', 'indonesian',\n",
    "    'analysis', 'gunungkidul', 'medan', 'effect', 'using', \"sp\"\n",
    "]\n",
    "english_stop_words = set(TfidfVectorizer(stop_words='english').get_stop_words())\n",
    "combined_stop_words = list(english_stop_words.union(indonesian_stop_words))\n",
    "\n",
    "# Step 1: Text Preprocessing and Vectorization\n",
    "vectorizer = TfidfVectorizer(stop_words=combined_stop_words)\n",
    "tfidf_matrix = vectorizer.fit_transform(df['title'])\n",
    "\n",
    "# Step 2: Aggregation\n",
    "# Combine all titles for each author into a single string\n",
    "author_profiles = df.groupby('author')['title'].apply(lambda titles: ' '.join(titles)).reset_index()\n",
    "author_tfidf_matrix = vectorizer.transform(author_profiles['title'])\n",
    "\n",
    "# Step 3: Dimensionality Reduction (optional)\n",
    "pca = PCA(n_components=3)\n",
    "reduced_tfidf_matrix = pca.fit_transform(author_tfidf_matrix.toarray())\n",
    "\n",
    "# Calculate explained variance\n",
    "explained_variance = pca.explained_variance_ratio_\n",
    "\n",
    "# Step 4: Clustering\n",
    "num_clusters = 12\n",
    "kmeans = KMeans(n_clusters=num_clusters)\n",
    "clusters = kmeans.fit_predict(reduced_tfidf_matrix)\n",
    "\n",
    "# Adding cluster labels to the DataFrame\n",
    "author_profiles['cluster'] = clusters\n",
    "author_profiles['PCA1'] = reduced_tfidf_matrix[:, 0]\n",
    "author_profiles['PCA2'] = reduced_tfidf_matrix[:, 1]\n",
    "\n",
    "# Step 5: Evaluation\n",
    "silhouette_avg = silhouette_score(reduced_tfidf_matrix, clusters)\n",
    "print(f'Silhouette Score: {silhouette_avg}')\n",
    "\n",
    "# Step 6: Enrich the DataFrame using the mapping dictionary\n",
    "author_profiles['author_name'] = author_profiles['author'].apply(lambda x: data[x]['name_inputted'])\n",
    "author_profiles['subjects'] = author_profiles['author'].apply(lambda x: \", \".join(data[x]['subjects']))\n",
    "author_profiles['sinta_id'] = author_profiles['author']\n",
    "\n",
    "# Step 7: Visualization with Altair\n",
    "\n",
    "# Get the most common words for each cluster\n",
    "cluster_words = {}\n",
    "for cluster in author_profiles['cluster'].unique():\n",
    "    titles = author_profiles[author_profiles['cluster'] == cluster]['title']\n",
    "    top_words = get_top_words(titles, stop_words=combined_stop_words, top_n=5)\n",
    "    cluster_words[cluster] = ', '.join(top_words)\n",
    "\n",
    "author_words = {}\n",
    "for author in author_profiles['author'].unique():\n",
    "    titles = author_profiles[author_profiles['author'] == author]['title']\n",
    "    top_words = get_top_words(titles, stop_words=combined_stop_words, top_n=5)\n",
    "    author_words[author] = ', '.join(top_words)\n",
    "\n",
    "# Visualization with Altair\n",
    "author_profiles['top_words_author'] = author_profiles['author'].apply(lambda x: author_words[x])\n",
    "author_profiles['top_words_cluster'] = author_profiles['cluster'].apply(lambda x: cluster_words[x])\n",
    "\n",
    "chart = alt.Chart(author_profiles).mark_circle(size=100).encode(\n",
    "    x=alt.X('PCA1', title=f'PCA1 ({explained_variance[0]*100:.2f}% variance)'),\n",
    "    y=alt.Y('PCA2', title=f'PCA2 ({explained_variance[1]*100:.2f}% variance)'),\n",
    "    color='cluster:N',\n",
    "    tooltip=['author_name', 'cluster', 'top_words_cluster', 'top_words_author', 'subjects', \"sinta_id\"]\n",
    ").properties(\n",
    "    title='Authors Clustering based on Publication Titles',\n",
    "    width=600,\n",
    "    height=600\n",
    ").interactive()\n",
    "\n",
    "chart.show()"
   ]
  },
  {
   "cell_type": "code",
   "execution_count": null,
   "id": "8f517e3e-0b6b-4769-9fb8-10113525ca2d",
   "metadata": {},
   "outputs": [],
   "source": [
    "outfile = Path(\"../figures/01_PCA_publication_titles.html\")\n",
    "outfile.parent.mkdir(exist_ok=True, parents=True)\n",
    "chart.save(outfile)"
   ]
  }
 ],
 "metadata": {
  "kernelspec": {
   "display_name": "Python 3 (ipykernel)",
   "language": "python",
   "name": "python3"
  },
  "language_info": {
   "codemirror_mode": {
    "name": "ipython",
    "version": 3
   },
   "file_extension": ".py",
   "mimetype": "text/x-python",
   "name": "python",
   "nbconvert_exporter": "python",
   "pygments_lexer": "ipython3",
   "version": "3.11.9"
  }
 },
 "nbformat": 4,
 "nbformat_minor": 5
}
