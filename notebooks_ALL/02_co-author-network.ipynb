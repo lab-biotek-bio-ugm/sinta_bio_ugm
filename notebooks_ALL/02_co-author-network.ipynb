{
 "cells": [
  {
   "cell_type": "code",
   "execution_count": null,
   "id": "9c0ee072-8ddb-46b4-b9d5-45c680c608b0",
   "metadata": {},
   "outputs": [],
   "source": [
    "import pandas as pd\n",
    "import json\n",
    "from pathlib import Path\n",
    "\n",
    "import networkx as nx\n",
    "import matplotlib.pyplot as plt"
   ]
  },
  {
   "cell_type": "code",
   "execution_count": null,
   "id": "a5e39f78-02b8-46ab-879b-1e0a833c3747",
   "metadata": {},
   "outputs": [],
   "source": [
    "AFFILIATIONS = [\"UGM\", \"UI\", \"ITB\", \"IPB\", \"UB\"]\n",
    "for affiliation in AFFILIATIONS:\n",
    "    with open(f\"../data/processed/{affiliation}/life_science.json\", \"r\") as f:\n",
    "        data.update(json.load(f))"
   ]
  },
  {
   "cell_type": "code",
   "execution_count": null,
   "id": "f5d14bcf-5890-43e9-b54c-1e3083cc11ce",
   "metadata": {},
   "outputs": [],
   "source": [
    "\n",
    "\n",
    "# Initialize a new directed graph\n",
    "G = nx.DiGraph()\n",
    "\n",
    "for sinta_id, value in data.items():\n",
    "    # Add the main author to the graph\n",
    "    main_author_id = data[sinta_id][\"scholar_id\"]\n",
    "    if main_author_id != None:\n",
    "        G.add_node(main_author_id, role='main', name=value['name_inputted'], affiliation=value['affiliation_sinta']['name'])\n",
    "    else:\n",
    "        continue\n",
    "\n",
    "    # Add the co-authors to the graph\n",
    "    for coauthor in data[sinta_id]['coauthors']:\n",
    "        coauthor_id = coauthor['scholar_id']\n",
    "        G.add_node(coauthor_id, role='coauthor', name=coauthor[\"name\"], affiliation=coauthor[\"affiliation\"])\n",
    "\n",
    "        # Add an edge from the main author to the co-author\n",
    "        G.add_edge(main_author_id, coauthor_id)\n",
    "\n",
    "for sinta_id, value in data.items():\n",
    "    # Add the main author to the graph\n",
    "    main_author_id = data[sinta_id][\"scholar_id\"]\n",
    "    if main_author_id != None:\n",
    "        G.nodes[main_author_id][\"role\"] = \"main\"\n",
    "        G.nodes[main_author_id][\"name\"] = value['name_inputted']\n",
    "        G.nodes[main_author_id][\"affiliation_sinta\"] = value['affiliation_sinta']['name']\n",
    "    else:\n",
    "        continue\n",
    "\n",
    "# Create a dictionary of labels\n",
    "labels = {node: G.nodes[node][\"name\"] for node, data in G.nodes(data=True) if data['role'] == 'main'}\n",
    "\n",
    "# Create a color map\n",
    "color_map = ['red' if data['role'] == 'main' else 'gray' for node, data in G.nodes(data=True)]\n",
    "\n",
    "# Create a size map\n",
    "size_map = [100 if data['role'] == 'main' else 25 for node, data in G.nodes(data=True)]\n",
    "\n",
    "# Draw the graph\n",
    "pos = nx.kamada_kawai_layout(G)\n",
    "nx.draw(G, pos, node_color=color_map, node_size=size_map, alpha=0.5, with_labels=False)  # Draw nodes and edges\n",
    "\n",
    "# Draw labels\n",
    "nx.draw_networkx_labels(G, pos, labels, font_size=5)\n",
    "\n",
    "# Save the plot as a file\n",
    "plt.savefig(f'../figures_ALL/02.0_co-author_graph.png')\n",
    "\n",
    "# Show the plot\n",
    "plt.show()"
   ]
  },
  {
   "cell_type": "code",
   "execution_count": null,
   "id": "196252c0-3a2c-411b-a16b-9d62d0100bc3",
   "metadata": {},
   "outputs": [],
   "source": [
    "outfile = Path(f\"../data/processed/ALL/co-author_network.graphml\")\n",
    "outfile.parent.mkdir(exist_ok=True, parents=True)\n",
    "nx.write_graphml(G, outfile)"
   ]
  },
  {
   "cell_type": "code",
   "execution_count": null,
   "id": "c4a757b2-f0c7-420c-bffe-9c4995b9b118",
   "metadata": {},
   "outputs": [],
   "source": [
    "main_authors = []\n",
    "connecting_co_authors = []\n",
    "for node in G.nodes:\n",
    "    role = G.nodes[node][\"role\"]\n",
    "    if role == \"main\":\n",
    "        main_authors.append(node)\n",
    "    else:\n",
    "        first_neighbors = [n for n in nx.all_neighbors(G, node)]\n",
    "        if len(first_neighbors) > 1:\n",
    "            connecting_co_authors.append(node)"
   ]
  },
  {
   "cell_type": "code",
   "execution_count": null,
   "id": "221267da-935f-465a-8cf5-304bb13add18",
   "metadata": {},
   "outputs": [],
   "source": [
    "# Create a list of nodes for the subgraph\n",
    "nodes = list(main_authors) + list(connecting_co_authors)\n",
    "\n",
    "# Create the subgraph\n",
    "H = G.subgraph(nodes)\n",
    "\n",
    "# Create a dictionary of labels\n",
    "labels = {node: H.nodes[node][\"name\"] for node, data in H.nodes(data=True) if data['role'] == 'main'}\n",
    "\n",
    "# Create a color map\n",
    "color_map = ['red' if data['role'] == 'main' else 'gray' for node, data in H.nodes(data=True)]\n",
    "\n",
    "# Create a size map\n",
    "size_map = [100 if data['role'] == 'main' else 25 for node, data in H.nodes(data=True)]\n",
    "\n",
    "# Draw the graph\n",
    "pos = nx.kamada_kawai_layout(H)\n",
    "nx.draw(H, pos, node_color=color_map, node_size=size_map, alpha=0.5, with_labels=False)  # Draw nodes and edges\n",
    "\n",
    "# Draw labels\n",
    "nx.draw_networkx_labels(H, pos, labels, font_size=5)\n",
    "\n",
    "# Save the plot as a file\n",
    "plt.savefig('../figures_ALL/02.2_connecting_co-author_graph.png')\n",
    "\n",
    "# Show the plot\n",
    "plt.show()"
   ]
  },
  {
   "cell_type": "code",
   "execution_count": null,
   "id": "d0fa6433-e81a-487c-a240-2dd3b74e3be6",
   "metadata": {},
   "outputs": [],
   "source": [
    "nx.write_graphml(H, \"../data/processed/ALL/co-author_subgraph_network.graphml\")"
   ]
  },
  {
   "cell_type": "code",
   "execution_count": null,
   "id": "376e6912-2ca9-403f-82cc-0e1d23ecac8a",
   "metadata": {},
   "outputs": [],
   "source": [
    "value['affiliation_sinta']['name']"
   ]
  },
  {
   "cell_type": "code",
   "execution_count": null,
   "id": "fb467233-6644-48fd-911b-fca1e83546f5",
   "metadata": {},
   "outputs": [],
   "source": [
    "value"
   ]
  },
  {
   "cell_type": "code",
   "execution_count": null,
   "id": "973898a0-6c54-47a7-9be3-6f3efee63faa",
   "metadata": {},
   "outputs": [],
   "source": []
  }
 ],
 "metadata": {
  "kernelspec": {
   "display_name": "Python 3 (ipykernel)",
   "language": "python",
   "name": "python3"
  },
  "language_info": {
   "codemirror_mode": {
    "name": "ipython",
    "version": 3
   },
   "file_extension": ".py",
   "mimetype": "text/x-python",
   "name": "python",
   "nbconvert_exporter": "python",
   "pygments_lexer": "ipython3",
   "version": "3.11.9"
  }
 },
 "nbformat": 4,
 "nbformat_minor": 5
}
