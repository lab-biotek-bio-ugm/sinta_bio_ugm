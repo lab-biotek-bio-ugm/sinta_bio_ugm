{
 "cells": [
  {
   "cell_type": "code",
   "execution_count": null,
   "id": "f334ac78-3ccb-4319-8b9d-2e79113f2c2c",
   "metadata": {},
   "outputs": [],
   "source": [
    "import sinta\n",
    "import logging\n",
    "from scholarly import scholarly\n",
    "from scholarly import MaxTriesExceededException\n",
    "import json\n",
    "from pathlib import Path"
   ]
  },
  {
   "cell_type": "code",
   "execution_count": null,
   "id": "2fc310da-7155-4649-8997-5c9f579cafc7",
   "metadata": {},
   "outputs": [],
   "source": [
    "import pandas as pd\n",
    "from datetime import datetime\n",
    "#pd.set_option('display.max_rows', None)\n",
    "\n",
    "# Define a function to extract and format the birth date from the NIDN\n",
    "def extract_birth_date(nidn):\n",
    "    # Check if the NIDN is not available or not long enough\n",
    "    if pd.isnull(nidn) or len(nidn) < 8:\n",
    "        return None\n",
    "    # Extract the birth date components\n",
    "    day = nidn[2:4]\n",
    "    month = nidn[4:6]\n",
    "    year = '19' + nidn[6:8]  # Assuming the year is in 19xx\n",
    "    # Format the birth date as dd/mm/yyyy\n",
    "    return day + '/' + month + '/' + year\n",
    "\n",
    "# Define a function to calculate the age from the birth date\n",
    "def calculate_age(birth_date):\n",
    "    # Check if the birth date is not available\n",
    "    if pd.isnull(birth_date):\n",
    "        return None\n",
    "    # Extract the birth year\n",
    "    birth_year = int(birth_date.split('/')[-1])\n",
    "    # Calculate the age by subtracting the birth year from the current year\n",
    "    return datetime.now().year - birth_year"
   ]
  },
  {
   "cell_type": "code",
   "execution_count": null,
   "id": "56f22b6f-2827-47cc-bfcd-d4de491d384c",
   "metadata": {},
   "outputs": [],
   "source": [
    "AFFILIATION = \"UB\"\n",
    "df_nidn = pd.read_csv(f\"../data/raw/{AFFILIATION}/{AFFILIATION.lower()}_data_NIDN.txt\", dtype={'id': str, 'NIDN': str})\n",
    "df_retired = pd.read_csv(f\"../data/raw/{AFFILIATION}/{AFFILIATION.lower()}_bio_retired.txt\")\n",
    "df_retired"
   ]
  },
  {
   "cell_type": "code",
   "execution_count": null,
   "id": "a71925a7-876c-46b5-9847-6bc235b790b4",
   "metadata": {},
   "outputs": [],
   "source": [
    "df = df_nidn[~df_nidn.name.isin(df_retired.Retired)]\n",
    "# Create a new column 'birth_date' by applying the function to the 'NIDN' column\n",
    "df.loc[:, 'birth_date'] = df['NIDN'].apply(extract_birth_date)\n",
    "\n",
    "# Create a new column 'age' by applying the function to the 'birth_date' column\n",
    "df.loc[:, 'age'] = df['birth_date'].apply(calculate_age)\n",
    "df = df.rename(columns={\"name\":\"name_inputted\"})\n",
    "# Display the DataFrame\n",
    "df"
   ]
  },
  {
   "cell_type": "code",
   "execution_count": null,
   "id": "fbd29884-6f57-4226-8134-f32c9a00c21d",
   "metadata": {},
   "outputs": [],
   "source": [
    "sinta_get = sinta.author(df.id.dropna().to_list())"
   ]
  },
  {
   "cell_type": "code",
   "execution_count": null,
   "id": "f606d054-df33-44f7-948b-bc5c943a4710",
   "metadata": {},
   "outputs": [],
   "source": [
    "df_sinta = pd.DataFrame.from_dict(sinta_get)\n",
    "df_clean = df.merge(df_sinta, left_on=\"id\", right_on=\"id\").set_index(\"id\")\n",
    "df_clean = df_clean.rename(columns={\"name\":\"name_sinta\", \"affiliation\":\"affiliation_sinta\"})"
   ]
  },
  {
   "cell_type": "code",
   "execution_count": null,
   "id": "f94e5add-5992-439d-81fa-fa6ce0bc1cb8",
   "metadata": {},
   "outputs": [],
   "source": [
    "google_result = {}\n",
    "for sinta_id in df_clean.index:\n",
    "    google_id = df_clean.loc[sinta_id, \"google_scholar_id\"]\n",
    "    author_name = df_clean.loc[sinta_id, \"name_inputted\"]\n",
    "    outfile = Path(f\"../data/processed/{AFFILIATION}/google_scholar/{sinta_id}.json\")\n",
    "    outfile.parent.mkdir(exist_ok=True, parents=True)\n",
    "    if outfile.exists():\n",
    "        logging.debug(f\"Fetching scholar information for sinta_id: {sinta_id} from cache...\")\n",
    "        with open(outfile, \"r\") as f:\n",
    "            author = json.load(f)\n",
    "    else:\n",
    "        if google_id == None:\n",
    "            logging.warning(f\"Unable to get google scholar id for {sinta_id}\")\n",
    "            author = {}\n",
    "        else:\n",
    "            logging.debug(f\"Fetching scholar information for sinta_id: {sinta_id} using google scholar API: {google_id}...\")\n",
    "            try:\n",
    "                author = scholarly.search_author_id(google_id)\n",
    "            except MaxTriesExceededException as e:\n",
    "                logging.warning(e)\n",
    "                logging.debug(f\"Searching scholar information for: {author_name} using google scholar API...\")\n",
    "                author_query = scholarly.search_author(author_name)\n",
    "                author = next(author_query)\n",
    "            # sanity check\n",
    "            if author[\"name\"].lower() == author_name.lower():\n",
    "                #if AFFILIATION.lower() in author[\"email_domain\"]:\n",
    "                    author = scholarly.fill(author, sections=[])\n",
    "                    with open(outfile, \"w\") as f:\n",
    "                        json.dump(author, f, indent=2)\n",
    "            else:\n",
    "                author = {}\n",
    "    google_result.update({sinta_id:author})"
   ]
  },
  {
   "cell_type": "code",
   "execution_count": null,
   "id": "f96a2a58-412b-4038-bee3-6d53eb274ddd",
   "metadata": {},
   "outputs": [],
   "source": [
    "df_google = pd.DataFrame.from_dict(google_result).T"
   ]
  },
  {
   "cell_type": "code",
   "execution_count": null,
   "id": "4d3fa70d-65da-4a81-9a2e-9c89c1840ed2",
   "metadata": {},
   "outputs": [],
   "source": [
    "df_final = df_clean.merge(df_google, left_index=True, right_index=True)"
   ]
  },
  {
   "cell_type": "code",
   "execution_count": null,
   "id": "0678d19c-9400-4050-a411-d062dcf5bf6b",
   "metadata": {},
   "outputs": [],
   "source": [
    "df_final.T.to_json(f\"../data/processed/{AFFILIATION}/life_science.json\", indent=2)"
   ]
  },
  {
   "cell_type": "code",
   "execution_count": null,
   "id": "cb606e68-eb69-4c84-a231-a80c93514b5b",
   "metadata": {},
   "outputs": [],
   "source": [
    "# sanity check for empty email domain\n",
    "df_final[df_final.email_domain.isnull()]"
   ]
  },
  {
   "cell_type": "code",
   "execution_count": null,
   "id": "e2844f4b-0401-4bdc-9440-3b54669f31a0",
   "metadata": {},
   "outputs": [],
   "source": [
    "# sanity check for different affiliation domain\n",
    "suspicious_email_domain = []\n",
    "for email_domain in df_final.email_domain.unique():\n",
    "    if type(email_domain) is str:\n",
    "        if AFFILIATION.lower() not in email_domain:\n",
    "            suspicious_email_domain.append(email_domain)\n",
    "suspicious_email_domain"
   ]
  },
  {
   "cell_type": "code",
   "execution_count": null,
   "id": "a98f59e7-4814-4bae-a9c0-bd95db773934",
   "metadata": {},
   "outputs": [],
   "source": [
    "df_final[df_final.email_domain.isin(suspicious_email_domain)].loc[:, [\"name_inputted\", \"name\", \"email_domain\", 'scholar_id', 'affiliation', 'interests', 'homepage']]"
   ]
  }
 ],
 "metadata": {
  "kernelspec": {
   "display_name": "Python 3 (ipykernel)",
   "language": "python",
   "name": "python3"
  },
  "language_info": {
   "codemirror_mode": {
    "name": "ipython",
    "version": 3
   },
   "file_extension": ".py",
   "mimetype": "text/x-python",
   "name": "python",
   "nbconvert_exporter": "python",
   "pygments_lexer": "ipython3",
   "version": "3.11.9"
  }
 },
 "nbformat": 4,
 "nbformat_minor": 5
}
